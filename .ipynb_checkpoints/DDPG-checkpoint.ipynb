{
 "cells": [
  {
   "cell_type": "markdown",
   "metadata": {},
   "source": [
    "# Deep Deterministic Policy Gradients (DDPG)\n",
    "---\n",
    "In this notebook, we train DDPG with OpenAI Gym's BipedalWalker-v2 environment.\n",
    "\n",
    "### 1. Import the Necessary Packages"
   ]
  },
  {
   "cell_type": "code",
   "execution_count": 2,
   "metadata": {},
   "outputs": [],
   "source": [
    "import gym\n",
    "import random\n",
    "import torch\n",
    "import numpy as np\n",
    "from collections import deque\n",
    "import matplotlib.pyplot as plt\n",
    "%matplotlib inline\n",
    "\n",
    "from ddpg_agent import Agent"
   ]
  },
  {
   "cell_type": "markdown",
   "metadata": {},
   "source": [
    "### 2. Instantiate the Environment and Agent"
   ]
  },
  {
   "cell_type": "code",
   "execution_count": 3,
   "metadata": {},
   "outputs": [
    {
     "name": "stdout",
     "output_type": "stream",
     "text": [
      "4\n"
     ]
    },
    {
     "name": "stderr",
     "output_type": "stream",
     "text": [
      "/home/xiaozhu/anaconda3/envs/drlnd/lib/python3.6/site-packages/gym/logger.py:30: UserWarning: \u001b[33mWARN: Box bound precision lowered by casting to float32\u001b[0m\n",
      "  warnings.warn(colorize('%s: %s'%('WARN', msg % args), 'yellow'))\n"
     ]
    }
   ],
   "source": [
    "env = gym.make('BipedalWalker-v3')\n",
    "env.seed(10)\n",
    "agent = Agent(state_size=env.observation_space.shape[0], action_size=env.action_space.shape[0], random_seed=10)\n",
    "print(env.action_space.shape[0])"
   ]
  },
  {
   "cell_type": "markdown",
   "metadata": {},
   "source": [
    "### 3. Train the Agent with DDPG\n",
    "\n",
    "Run the code cell below to train the agent from scratch.  Alternatively, you can skip to the next code cell to load the pre-trained weights from file."
   ]
  },
  {
   "cell_type": "code",
   "execution_count": 3,
   "metadata": {
    "scrolled": true
   },
   "outputs": [
    {
     "name": "stderr",
     "output_type": "stream",
     "text": [
      "/home/xiaozhu/anaconda3/envs/drlnd/lib/python3.6/site-packages/torch/nn/functional.py:1558: UserWarning: nn.functional.tanh is deprecated. Use torch.tanh instead.\n",
      "  warnings.warn(\"nn.functional.tanh is deprecated. Use torch.tanh instead.\")\n"
     ]
    },
    {
     "name": "stdout",
     "output_type": "stream",
     "text": [
      "Episode 100\tAverage Score: -112.04\tScore: -130.81\n",
      "Episode 200\tAverage Score: -60.69\tScore: -33.2033\n",
      "Episode 300\tAverage Score: -52.26\tScore: -23.250\n",
      "Episode 400\tAverage Score: -92.76\tScore: -116.31\n",
      "Episode 500\tAverage Score: -114.66\tScore: -113.28\n",
      "Episode 600\tAverage Score: -55.30\tScore: -35.7765\n",
      "Episode 700\tAverage Score: -47.44\tScore: -30.186\n",
      "Episode 800\tAverage Score: -48.62\tScore: -30.470\n",
      "Episode 900\tAverage Score: -66.72\tScore: -35.673\n",
      "Episode 1000\tAverage Score: -30.13\tScore: -34.24\n",
      "Episode 1100\tAverage Score: -27.17\tScore: -30.24\n",
      "Episode 1200\tAverage Score: -47.29\tScore: -122.04\n",
      "Episode 1300\tAverage Score: -39.63\tScore: -22.334\n",
      "Episode 1400\tAverage Score: -23.37\tScore: -23.30\n",
      "Episode 1500\tAverage Score: -36.79\tScore: -114.28\n",
      "Episode 1600\tAverage Score: -23.58\tScore: -16.510\n",
      "Episode 1700\tAverage Score: -19.78\tScore: -17.59\n",
      "Episode 1800\tAverage Score: -19.78\tScore: -14.24\n",
      "Episode 1900\tAverage Score: -16.44\tScore: -19.85\n",
      "Episode 2000\tAverage Score: -17.45\tScore: -14.09\n",
      "Episode 2100\tAverage Score: -16.29\tScore: -12.57\n",
      "Episode 2200\tAverage Score: -10.17\tScore: -8.560\n",
      "Episode 2300\tAverage Score: -4.58\tScore: 0.11254\n",
      "Episode 2400\tAverage Score: 1.76\tScore: 1.28536\n",
      "Episode 2500\tAverage Score: 6.88\tScore: 11.6295\n",
      "Episode 2600\tAverage Score: 14.93\tScore: 20.100\n",
      "Episode 2700\tAverage Score: 30.30\tScore: 33.63\n",
      "Episode 2800\tAverage Score: 32.63\tScore: 34.38\n",
      "Episode 2900\tAverage Score: 34.90\tScore: 27.46\n",
      "Episode 3000\tAverage Score: 40.15\tScore: 45.88\n",
      "Episode 3100\tAverage Score: 44.98\tScore: 37.02\n",
      "Episode 3200\tAverage Score: 46.45\tScore: 49.10\n",
      "Episode 3300\tAverage Score: 46.74\tScore: 51.498\n",
      "Episode 3400\tAverage Score: 52.28\tScore: 58.32\n",
      "Episode 3500\tAverage Score: 52.36\tScore: 52.233\n",
      "Episode 3600\tAverage Score: 51.36\tScore: 56.92\n",
      "Episode 3700\tAverage Score: 48.43\tScore: 58.191\n",
      "Episode 3800\tAverage Score: 52.15\tScore: 39.74\n",
      "Episode 3900\tAverage Score: 51.76\tScore: 53.49\n",
      "Episode 4000\tAverage Score: 53.45\tScore: 55.10\n",
      "Episode 4100\tAverage Score: 56.18\tScore: 60.42\n",
      "Episode 4200\tAverage Score: 57.39\tScore: 60.66\n",
      "Episode 4300\tAverage Score: 58.73\tScore: 51.59\n",
      "Episode 4400\tAverage Score: 57.55\tScore: 60.02\n",
      "Episode 4500\tAverage Score: 56.24\tScore: 60.73\n",
      "Episode 4600\tAverage Score: 61.11\tScore: 65.88\n",
      "Episode 4700\tAverage Score: 60.95\tScore: 61.99\n",
      "Episode 4800\tAverage Score: 59.98\tScore: 48.28\n",
      "Episode 4900\tAverage Score: 62.50\tScore: 60.45\n",
      "Episode 5000\tAverage Score: 63.08\tScore: 69.53\n"
     ]
    },
    {
     "data": {
      "image/png": "[encoded data removed]",
      "text/plain": [
       "<Figure size 432x288 with 1 Axes>"
      ]
     },
     "metadata": {
      "needs_background": "light"
     },
     "output_type": "display_data"
    }
   ],
   "source": [
    "def ddpg(n_episodes=5000, max_t=300):\n",
    "    scores_deque = deque(maxlen=100)\n",
    "    scores = []\n",
    "    max_score = -np.Inf\n",
    "    for i_episode in range(1, n_episodes+1):\n",
    "        state = env.reset()\n",
    "        agent.reset()\n",
    "        score = 0\n",
    "        for t in range(max_t):\n",
    "            action = agent.act(state)\n",
    "            next_state, reward, done, _ = env.step(action)\n",
    "            agent.step(state, action, reward, next_state, done)\n",
    "            state = next_state\n",
    "            score += reward\n",
    "            if done:\n",
    "                break \n",
    "        scores_deque.append(score)\n",
    "        scores.append(score)\n",
    "        print('\\rEpisode {}\\tAverage Score: {:.2f}\\tScore: {:.2f}'.format(i_episode, np.mean(scores_deque), score), end=\"\")\n",
    "        if i_episode % 100 == 0:\n",
    "            torch.save(agent.actor_local.state_dict(), 'checkpoint_actor.pth')\n",
    "            torch.save(agent.critic_local.state_dict(), 'checkpoint_critic.pth')\n",
    "            print('\\rEpisode {}\\tAverage Score: {:.2f}'.format(i_episode, np.mean(scores_deque)))   \n",
    "    return scores\n",
    "\n",
    "scores = ddpg()\n",
    "\n",
    "fig = plt.figure()\n",
    "ax = fig.add_subplot(111)\n",
    "plt.plot(np.arange(1, len(scores)+1), scores)\n",
    "plt.ylabel('Score')\n",
    "plt.xlabel('Episode #')\n",
    "plt.show()"
   ]
  },
  {
   "cell_type": "markdown",
   "metadata": {},
   "source": [
    "It is weird."
   ]
  },
  {
   "cell_type": "code",
   "execution_count": null,
   "metadata": {},
   "outputs": [],
   "source": [
    "agent.actor_local.load_state_dict(torch.load('checkpoint_actor.pth'))\n",
    "agent.critic_local.load_state_dict(torch.load('checkpoint_critic.pth'))\n",
    "import time\n",
    "\n",
    "state = env.reset()\n",
    "agent.reset()\n",
    "while True:\n",
    "    action = agent.act(state)\n",
    "    env.render()\n",
    "    next_state, reward, done, _ = env.step(action)\n",
    "    state = next_state\n",
    "    print(action)\n",
    "    if done:\n",
    "        break\n",
    "        \n",
    "env.close()"
   ]
  }
 ],
 "metadata": {
  "kernelspec": {
   "display_name": "drlnd",
   "language": "python",
   "name": "drlnd"
  },
  "language_info": {
   "codemirror_mode": {
    "name": "ipython",
    "version": 3
   },
   "file_extension": ".py",
   "mimetype": "text/x-python",
   "name": "python",
   "nbconvert_exporter": "python",
   "pygments_lexer": "ipython3",
   "version": "3.6.10"
  }
 },
 "nbformat": 4,
 "nbformat_minor": 2
}
